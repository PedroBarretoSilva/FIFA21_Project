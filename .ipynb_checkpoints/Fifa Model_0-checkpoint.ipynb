{
 "cells": [
  {
   "cell_type": "markdown",
   "id": "fbb518dc",
   "metadata": {},
   "source": [
    "## 1. Import Libraries"
   ]
  },
  {
   "cell_type": "code",
   "execution_count": 1,
   "id": "cde52014",
   "metadata": {},
   "outputs": [],
   "source": [
    "import pandas as pd\n",
    "import numpy as np\n",
    "import matplotlib.pyplot as plt\n",
    "import seaborn as sns \n",
    "from sklearn import linear_model\n",
    "from sklearn.metrics import mean_squared_error, mean_absolute_error, r2_score\n",
    "from sklearn.linear_model import LinearRegression as LinReg\n",
    "from sklearn.preprocessing import MinMaxScaler\n",
    "from sklearn.preprocessing import StandardScaler\n",
    "from sklearn.preprocessing import OneHotEncoder\n",
    "from sklearn.model_selection import train_test_split as tts\n",
    "from sklearn.metrics import r2_score\n",
    "import math"
   ]
  },
  {
   "cell_type": "markdown",
   "id": "6e04f5ff",
   "metadata": {},
   "source": [
    "## 2. Initialise function"
   ]
  },
  {
   "cell_type": "code",
   "execution_count": 2,
   "id": "baa19623",
   "metadata": {},
   "outputs": [],
   "source": [
    "def FIFA(x):\n",
    "   \n",
    "    #Column Cleaning\n",
    "  \n",
    "    #change titles to lower case \n",
    "    lower = []\n",
    "    for i in x.columns:\n",
    "        lower.append(i.lower())\n",
    "    x.columns = lower\n",
    "  \n",
    "    #Rename unclear column names\n",
    "    x = x.rename(columns={'weight':'weight kg','loan date end':'on_loan', 'value':'value_€','wage':'wage_€','release clause':'release_clause_€','bp' : 'best position','a/w' : 'attacking workrate','d/w':'defensive workrate','ir' : 'international reputation','w/f':'weak foot','sm' : 'skill move','ova':'ovr'})\n",
    "    \n",
    "\n",
    "    #Puts underscore instead of spaces\n",
    "    under_ = []\n",
    "    for i in x.columns:\n",
    "        if ' ' in i:\n",
    "            under_.append(i.replace(' ', '_'))\n",
    "        else:\n",
    "            under_.append(i)\n",
    "    x.columns = under_   \n",
    "\n",
    "\n",
    "    \n",
    "    #Value Cleaning\n",
    "\n",
    "    #cleaned up the final columns (taking + out)\n",
    "    def split(y):\n",
    "        y = y.str.split(\"+\", n = 1, expand = True)[0]\n",
    "        return y \n",
    "    \n",
    "    cols = x[['ls','st','rs','lw','lf','cf','rf','rw','lam','cam','ram','lm','lcm','cm','rcm','rm','lwb','ldm','cdm','rdm','rwb','lb','lcb','cb','rcb','rb','gk']]\n",
    "    for i in cols:\n",
    "        x[i] = split(cols[i])\n",
    "        x[i] = x[i].astype(int)\n",
    "        \n",
    "        \n",
    "    #Remove stars from values in columns\n",
    "    x['skill_move']=x['skill_move'].str.replace('★','') \n",
    "    x['weak_foot']=x['weak_foot'].str.replace('★','')\n",
    "    x['international_reputation']=x['international_reputation'].str.replace('★','')\n",
    "    \n",
    "    \n",
    "    #Fill Nulls and create boolean values for on_loan column\n",
    "    x['on_loan'] = x['on_loan'].fillna(0)\n",
    "    \n",
    "    numb = []\n",
    "    for i in x['on_loan']:\n",
    "        if i != 0:\n",
    "            numb.append(1)\n",
    "        else:\n",
    "            numb.append(0)\n",
    "\n",
    "    x['on_loan'] = numb\n",
    "    \n",
    "    \n",
    "    #Convert money to int by removing characters and punctuation, then correcting the amounts\n",
    "    def moneycon(x):\n",
    "\n",
    "        money = []\n",
    "        for i in x:\n",
    "            i = i.replace(\"€\",'')\n",
    "            if 'K' in i:\n",
    "                i = i.replace(\"K\",'')\n",
    "                i = i.replace(\".\",'')\n",
    "                i = float(i)\n",
    "                i = float(i * 1000)\n",
    "                i = int(i)\n",
    "                money.append(i)\n",
    "            elif 'M' in i:\n",
    "                i = i.replace(\"M\",'')\n",
    "                i = float(i)\n",
    "                i = float(i * 1000000)\n",
    "                i = int(i)\n",
    "                money.append(i)\n",
    "            else:\n",
    "                money.append(i)   \n",
    "            \n",
    "        return money\n",
    "    \n",
    "    x['value_€'] = moneycon(x['value_€'])\n",
    "    x['wage_€'] = moneycon(x['wage_€'])\n",
    "    x['release_clause_€'] = moneycon(x['release_clause_€'])\n",
    "    x['hits'] = moneycon(x['hits'])\n",
    "    \n",
    "    x['value_€'] = pd.to_numeric(x['value_€'])\n",
    "    x['wage_€'] = pd.to_numeric(x['wage_€'])\n",
    "    x['release_clause_€'] = pd.to_numeric(x['release_clause_€'])\n",
    "    x['hits'] = pd.to_numeric(x['hits'])\n",
    "    \n",
    "    x['defensive_workrate'] = x['defensive_workrate'].fillna(\"U\")\n",
    "    x['defensive_workrate'] = x['defensive_workrate'].map({'Low':1,'Medium':2,'High':3, \"U\":0})\n",
    "    x['attacking_workrate'] = x['attacking_workrate'].fillna(\"U\")\n",
    "    x['attacking_workrate'] = x['attacking_workrate'].map({'Low':1,'Medium':2,'High':3, \"U\":0})\n",
    "    x['foot'] = x['foot'].fillna(\"U\")\n",
    "    x['foot'] = x['foot'].map({'Right':0,'Left':1})\n",
    "    \n",
    "    \n",
    "    #x['gk'] = x['gk'].map({'None':0})\n",
    "    \n",
    "    \n",
    "    #Convert columns to integers\n",
    "    x['international_reputation'] = x['international_reputation'].astype(int)\n",
    "    x['skill_move'] = x['skill_move'].astype(int)\n",
    "    x['weak_foot'] = x['weak_foot'].astype(int)\n",
    "\n",
    "    \n",
    "    #Convert weight and height columns to metric measurements\n",
    "    \n",
    "    weight=[]\n",
    "    for i in x['weight_kg']:\n",
    "        i = i.replace('lbs','')\n",
    "        i = float(i)*0.453592\n",
    "        weight.append(round(i,2))\n",
    "                     \n",
    "    x['weight_kg'] = weight\n",
    "    \n",
    "    x = x[x['club'].isna()==False]\n",
    "    \n",
    "    \n",
    "    x['heightm'] = x['height'].str.split(\"'\", n = 1, expand = True)[0]\n",
    "    x['heightcm'] = x['height'].str.split(\"'\", n = 0, expand = True)[0]\n",
    "\n",
    "    changetype = x[[]]\n",
    "\n",
    "    heightmcon = []\n",
    "    for i in x['heightm']:\n",
    "        i = float(i) * 30.48\n",
    "        i = int(i)\n",
    "        heightmcon.append(i)\n",
    "    x['heightm'] = heightmcon\n",
    "\n",
    "    heightcmcon= []\n",
    "    for i in x['heightcm']:\n",
    "        i = float(i) * 2.54\n",
    "        i = int(i)\n",
    "        heightcmcon.append(i)\n",
    "    x['heightcm'] = heightcmcon\n",
    "\n",
    "    x['height'] = x['heightm']+x['heightcm']\n",
    "    \n",
    "    hdrop = x[['heightm','heightcm']]\n",
    "    x[i] = x.drop(hdrop, axis = 1, inplace = True)\n",
    "    \n",
    " \n",
    "    \n",
    "    #Determine the columns to be included in the final dataframe (gk has problems with datatype, if i had more time, i would correct this)\n",
    "    x = x[['name','age','nationality','best_position','height','weight_kg','foot','growth','value_€','wage_€','release_clause_€','on_loan','attacking','skill','movement','power','mentality','defending','goalkeeping','total_stats','base_stats','weak_foot','skill_move','attacking_workrate','defensive_workrate','international_reputation','pac','sho','pas','dri','def','phy','hits','ls','st','rs','lw','lf','cf','rf','rw','lam','cam','ram','lm','lcm','cm','rcm','rm','lwb','ldm','cdm','rdm','rwb','lb','lcb','cb','rcb','rb','gk','ovr']]\n",
    "\n",
    "    return x"
   ]
  },
  {
   "cell_type": "markdown",
   "id": "f495d2c9",
   "metadata": {},
   "source": [
    "## 3. Import csv files"
   ]
  },
  {
   "cell_type": "code",
   "execution_count": 3,
   "id": "4b179569",
   "metadata": {},
   "outputs": [
    {
     "ename": "FileNotFoundError",
     "evalue": "[Errno 2] No such file or directory: '2.1 Fifa21 Project/fifa21_train.csv'",
     "output_type": "error",
     "traceback": [
      "\u001b[1;31m---------------------------------------------------------------------------\u001b[0m",
      "\u001b[1;31mFileNotFoundError\u001b[0m                         Traceback (most recent call last)",
      "\u001b[1;32m~\\AppData\\Local\\Temp/ipykernel_3588/3422226593.py\u001b[0m in \u001b[0;36m<module>\u001b[1;34m\u001b[0m\n\u001b[1;32m----> 1\u001b[1;33m \u001b[0mfifa_train\u001b[0m \u001b[1;33m=\u001b[0m \u001b[0mpd\u001b[0m\u001b[1;33m.\u001b[0m\u001b[0mread_csv\u001b[0m\u001b[1;33m(\u001b[0m\u001b[1;34m'2.1 Fifa21 Project/fifa21_train.csv'\u001b[0m\u001b[1;33m)\u001b[0m\u001b[1;33m\u001b[0m\u001b[1;33m\u001b[0m\u001b[0m\n\u001b[0m\u001b[0;32m      2\u001b[0m \u001b[0mfifa_validate\u001b[0m \u001b[1;33m=\u001b[0m \u001b[0mpd\u001b[0m\u001b[1;33m.\u001b[0m\u001b[0mread_csv\u001b[0m\u001b[1;33m(\u001b[0m\u001b[1;34m'2.1 Fifa21 Project/fifa21_validate.csv'\u001b[0m\u001b[1;33m)\u001b[0m\u001b[1;33m\u001b[0m\u001b[1;33m\u001b[0m\u001b[0m\n",
      "\u001b[1;32m~\\anaconda3\\lib\\site-packages\\pandas\\util\\_decorators.py\u001b[0m in \u001b[0;36mwrapper\u001b[1;34m(*args, **kwargs)\u001b[0m\n\u001b[0;32m    309\u001b[0m                     \u001b[0mstacklevel\u001b[0m\u001b[1;33m=\u001b[0m\u001b[0mstacklevel\u001b[0m\u001b[1;33m,\u001b[0m\u001b[1;33m\u001b[0m\u001b[1;33m\u001b[0m\u001b[0m\n\u001b[0;32m    310\u001b[0m                 )\n\u001b[1;32m--> 311\u001b[1;33m             \u001b[1;32mreturn\u001b[0m \u001b[0mfunc\u001b[0m\u001b[1;33m(\u001b[0m\u001b[1;33m*\u001b[0m\u001b[0margs\u001b[0m\u001b[1;33m,\u001b[0m \u001b[1;33m**\u001b[0m\u001b[0mkwargs\u001b[0m\u001b[1;33m)\u001b[0m\u001b[1;33m\u001b[0m\u001b[1;33m\u001b[0m\u001b[0m\n\u001b[0m\u001b[0;32m    312\u001b[0m \u001b[1;33m\u001b[0m\u001b[0m\n\u001b[0;32m    313\u001b[0m         \u001b[1;32mreturn\u001b[0m \u001b[0mwrapper\u001b[0m\u001b[1;33m\u001b[0m\u001b[1;33m\u001b[0m\u001b[0m\n",
      "\u001b[1;32m~\\anaconda3\\lib\\site-packages\\pandas\\io\\parsers\\readers.py\u001b[0m in \u001b[0;36mread_csv\u001b[1;34m(filepath_or_buffer, sep, delimiter, header, names, index_col, usecols, squeeze, prefix, mangle_dupe_cols, dtype, engine, converters, true_values, false_values, skipinitialspace, skiprows, skipfooter, nrows, na_values, keep_default_na, na_filter, verbose, skip_blank_lines, parse_dates, infer_datetime_format, keep_date_col, date_parser, dayfirst, cache_dates, iterator, chunksize, compression, thousands, decimal, lineterminator, quotechar, quoting, doublequote, escapechar, comment, encoding, encoding_errors, dialect, error_bad_lines, warn_bad_lines, on_bad_lines, delim_whitespace, low_memory, memory_map, float_precision, storage_options)\u001b[0m\n\u001b[0;32m    584\u001b[0m     \u001b[0mkwds\u001b[0m\u001b[1;33m.\u001b[0m\u001b[0mupdate\u001b[0m\u001b[1;33m(\u001b[0m\u001b[0mkwds_defaults\u001b[0m\u001b[1;33m)\u001b[0m\u001b[1;33m\u001b[0m\u001b[1;33m\u001b[0m\u001b[0m\n\u001b[0;32m    585\u001b[0m \u001b[1;33m\u001b[0m\u001b[0m\n\u001b[1;32m--> 586\u001b[1;33m     \u001b[1;32mreturn\u001b[0m \u001b[0m_read\u001b[0m\u001b[1;33m(\u001b[0m\u001b[0mfilepath_or_buffer\u001b[0m\u001b[1;33m,\u001b[0m \u001b[0mkwds\u001b[0m\u001b[1;33m)\u001b[0m\u001b[1;33m\u001b[0m\u001b[1;33m\u001b[0m\u001b[0m\n\u001b[0m\u001b[0;32m    587\u001b[0m \u001b[1;33m\u001b[0m\u001b[0m\n\u001b[0;32m    588\u001b[0m \u001b[1;33m\u001b[0m\u001b[0m\n",
      "\u001b[1;32m~\\anaconda3\\lib\\site-packages\\pandas\\io\\parsers\\readers.py\u001b[0m in \u001b[0;36m_read\u001b[1;34m(filepath_or_buffer, kwds)\u001b[0m\n\u001b[0;32m    480\u001b[0m \u001b[1;33m\u001b[0m\u001b[0m\n\u001b[0;32m    481\u001b[0m     \u001b[1;31m# Create the parser.\u001b[0m\u001b[1;33m\u001b[0m\u001b[1;33m\u001b[0m\u001b[0m\n\u001b[1;32m--> 482\u001b[1;33m     \u001b[0mparser\u001b[0m \u001b[1;33m=\u001b[0m \u001b[0mTextFileReader\u001b[0m\u001b[1;33m(\u001b[0m\u001b[0mfilepath_or_buffer\u001b[0m\u001b[1;33m,\u001b[0m \u001b[1;33m**\u001b[0m\u001b[0mkwds\u001b[0m\u001b[1;33m)\u001b[0m\u001b[1;33m\u001b[0m\u001b[1;33m\u001b[0m\u001b[0m\n\u001b[0m\u001b[0;32m    483\u001b[0m \u001b[1;33m\u001b[0m\u001b[0m\n\u001b[0;32m    484\u001b[0m     \u001b[1;32mif\u001b[0m \u001b[0mchunksize\u001b[0m \u001b[1;32mor\u001b[0m \u001b[0miterator\u001b[0m\u001b[1;33m:\u001b[0m\u001b[1;33m\u001b[0m\u001b[1;33m\u001b[0m\u001b[0m\n",
      "\u001b[1;32m~\\anaconda3\\lib\\site-packages\\pandas\\io\\parsers\\readers.py\u001b[0m in \u001b[0;36m__init__\u001b[1;34m(self, f, engine, **kwds)\u001b[0m\n\u001b[0;32m    809\u001b[0m             \u001b[0mself\u001b[0m\u001b[1;33m.\u001b[0m\u001b[0moptions\u001b[0m\u001b[1;33m[\u001b[0m\u001b[1;34m\"has_index_names\"\u001b[0m\u001b[1;33m]\u001b[0m \u001b[1;33m=\u001b[0m \u001b[0mkwds\u001b[0m\u001b[1;33m[\u001b[0m\u001b[1;34m\"has_index_names\"\u001b[0m\u001b[1;33m]\u001b[0m\u001b[1;33m\u001b[0m\u001b[1;33m\u001b[0m\u001b[0m\n\u001b[0;32m    810\u001b[0m \u001b[1;33m\u001b[0m\u001b[0m\n\u001b[1;32m--> 811\u001b[1;33m         \u001b[0mself\u001b[0m\u001b[1;33m.\u001b[0m\u001b[0m_engine\u001b[0m \u001b[1;33m=\u001b[0m \u001b[0mself\u001b[0m\u001b[1;33m.\u001b[0m\u001b[0m_make_engine\u001b[0m\u001b[1;33m(\u001b[0m\u001b[0mself\u001b[0m\u001b[1;33m.\u001b[0m\u001b[0mengine\u001b[0m\u001b[1;33m)\u001b[0m\u001b[1;33m\u001b[0m\u001b[1;33m\u001b[0m\u001b[0m\n\u001b[0m\u001b[0;32m    812\u001b[0m \u001b[1;33m\u001b[0m\u001b[0m\n\u001b[0;32m    813\u001b[0m     \u001b[1;32mdef\u001b[0m \u001b[0mclose\u001b[0m\u001b[1;33m(\u001b[0m\u001b[0mself\u001b[0m\u001b[1;33m)\u001b[0m\u001b[1;33m:\u001b[0m\u001b[1;33m\u001b[0m\u001b[1;33m\u001b[0m\u001b[0m\n",
      "\u001b[1;32m~\\anaconda3\\lib\\site-packages\\pandas\\io\\parsers\\readers.py\u001b[0m in \u001b[0;36m_make_engine\u001b[1;34m(self, engine)\u001b[0m\n\u001b[0;32m   1038\u001b[0m             )\n\u001b[0;32m   1039\u001b[0m         \u001b[1;31m# error: Too many arguments for \"ParserBase\"\u001b[0m\u001b[1;33m\u001b[0m\u001b[1;33m\u001b[0m\u001b[0m\n\u001b[1;32m-> 1040\u001b[1;33m         \u001b[1;32mreturn\u001b[0m \u001b[0mmapping\u001b[0m\u001b[1;33m[\u001b[0m\u001b[0mengine\u001b[0m\u001b[1;33m]\u001b[0m\u001b[1;33m(\u001b[0m\u001b[0mself\u001b[0m\u001b[1;33m.\u001b[0m\u001b[0mf\u001b[0m\u001b[1;33m,\u001b[0m \u001b[1;33m**\u001b[0m\u001b[0mself\u001b[0m\u001b[1;33m.\u001b[0m\u001b[0moptions\u001b[0m\u001b[1;33m)\u001b[0m  \u001b[1;31m# type: ignore[call-arg]\u001b[0m\u001b[1;33m\u001b[0m\u001b[1;33m\u001b[0m\u001b[0m\n\u001b[0m\u001b[0;32m   1041\u001b[0m \u001b[1;33m\u001b[0m\u001b[0m\n\u001b[0;32m   1042\u001b[0m     \u001b[1;32mdef\u001b[0m \u001b[0m_failover_to_python\u001b[0m\u001b[1;33m(\u001b[0m\u001b[0mself\u001b[0m\u001b[1;33m)\u001b[0m\u001b[1;33m:\u001b[0m\u001b[1;33m\u001b[0m\u001b[1;33m\u001b[0m\u001b[0m\n",
      "\u001b[1;32m~\\anaconda3\\lib\\site-packages\\pandas\\io\\parsers\\c_parser_wrapper.py\u001b[0m in \u001b[0;36m__init__\u001b[1;34m(self, src, **kwds)\u001b[0m\n\u001b[0;32m     49\u001b[0m \u001b[1;33m\u001b[0m\u001b[0m\n\u001b[0;32m     50\u001b[0m         \u001b[1;31m# open handles\u001b[0m\u001b[1;33m\u001b[0m\u001b[1;33m\u001b[0m\u001b[0m\n\u001b[1;32m---> 51\u001b[1;33m         \u001b[0mself\u001b[0m\u001b[1;33m.\u001b[0m\u001b[0m_open_handles\u001b[0m\u001b[1;33m(\u001b[0m\u001b[0msrc\u001b[0m\u001b[1;33m,\u001b[0m \u001b[0mkwds\u001b[0m\u001b[1;33m)\u001b[0m\u001b[1;33m\u001b[0m\u001b[1;33m\u001b[0m\u001b[0m\n\u001b[0m\u001b[0;32m     52\u001b[0m         \u001b[1;32massert\u001b[0m \u001b[0mself\u001b[0m\u001b[1;33m.\u001b[0m\u001b[0mhandles\u001b[0m \u001b[1;32mis\u001b[0m \u001b[1;32mnot\u001b[0m \u001b[1;32mNone\u001b[0m\u001b[1;33m\u001b[0m\u001b[1;33m\u001b[0m\u001b[0m\n\u001b[0;32m     53\u001b[0m \u001b[1;33m\u001b[0m\u001b[0m\n",
      "\u001b[1;32m~\\anaconda3\\lib\\site-packages\\pandas\\io\\parsers\\base_parser.py\u001b[0m in \u001b[0;36m_open_handles\u001b[1;34m(self, src, kwds)\u001b[0m\n\u001b[0;32m    220\u001b[0m         \u001b[0mLet\u001b[0m \u001b[0mthe\u001b[0m \u001b[0mreaders\u001b[0m \u001b[0mopen\u001b[0m \u001b[0mIOHandles\u001b[0m \u001b[0mafter\u001b[0m \u001b[0mthey\u001b[0m \u001b[0mare\u001b[0m \u001b[0mdone\u001b[0m \u001b[1;32mwith\u001b[0m \u001b[0mtheir\u001b[0m \u001b[0mpotential\u001b[0m \u001b[0mraises\u001b[0m\u001b[1;33m.\u001b[0m\u001b[1;33m\u001b[0m\u001b[1;33m\u001b[0m\u001b[0m\n\u001b[0;32m    221\u001b[0m         \"\"\"\n\u001b[1;32m--> 222\u001b[1;33m         self.handles = get_handle(\n\u001b[0m\u001b[0;32m    223\u001b[0m             \u001b[0msrc\u001b[0m\u001b[1;33m,\u001b[0m\u001b[1;33m\u001b[0m\u001b[1;33m\u001b[0m\u001b[0m\n\u001b[0;32m    224\u001b[0m             \u001b[1;34m\"r\"\u001b[0m\u001b[1;33m,\u001b[0m\u001b[1;33m\u001b[0m\u001b[1;33m\u001b[0m\u001b[0m\n",
      "\u001b[1;32m~\\anaconda3\\lib\\site-packages\\pandas\\io\\common.py\u001b[0m in \u001b[0;36mget_handle\u001b[1;34m(path_or_buf, mode, encoding, compression, memory_map, is_text, errors, storage_options)\u001b[0m\n\u001b[0;32m    700\u001b[0m         \u001b[1;32mif\u001b[0m \u001b[0mioargs\u001b[0m\u001b[1;33m.\u001b[0m\u001b[0mencoding\u001b[0m \u001b[1;32mand\u001b[0m \u001b[1;34m\"b\"\u001b[0m \u001b[1;32mnot\u001b[0m \u001b[1;32min\u001b[0m \u001b[0mioargs\u001b[0m\u001b[1;33m.\u001b[0m\u001b[0mmode\u001b[0m\u001b[1;33m:\u001b[0m\u001b[1;33m\u001b[0m\u001b[1;33m\u001b[0m\u001b[0m\n\u001b[0;32m    701\u001b[0m             \u001b[1;31m# Encoding\u001b[0m\u001b[1;33m\u001b[0m\u001b[1;33m\u001b[0m\u001b[0m\n\u001b[1;32m--> 702\u001b[1;33m             handle = open(\n\u001b[0m\u001b[0;32m    703\u001b[0m                 \u001b[0mhandle\u001b[0m\u001b[1;33m,\u001b[0m\u001b[1;33m\u001b[0m\u001b[1;33m\u001b[0m\u001b[0m\n\u001b[0;32m    704\u001b[0m                 \u001b[0mioargs\u001b[0m\u001b[1;33m.\u001b[0m\u001b[0mmode\u001b[0m\u001b[1;33m,\u001b[0m\u001b[1;33m\u001b[0m\u001b[1;33m\u001b[0m\u001b[0m\n",
      "\u001b[1;31mFileNotFoundError\u001b[0m: [Errno 2] No such file or directory: '2.1 Fifa21 Project/fifa21_train.csv'"
     ]
    }
   ],
   "source": [
    "fifa_train = pd.read_csv('2.1 Fifa21 Project/fifa21_train.csv')\n",
    "fifa_validate = pd.read_csv('2.1 Fifa21 Project/fifa21_validate.csv')"
   ]
  },
  {
   "cell_type": "code",
   "execution_count": null,
   "id": "811bf0b2",
   "metadata": {},
   "outputs": [],
   "source": [
    "fifa_t = FIFA(fifa_train)\n",
    "fifa_v = FIFA(fifa_validate)"
   ]
  },
  {
   "cell_type": "markdown",
   "id": "f956abe4",
   "metadata": {},
   "source": [
    "## 4. Prepare the model"
   ]
  },
  {
   "cell_type": "code",
   "execution_count": null,
   "id": "603b1421",
   "metadata": {},
   "outputs": [],
   "source": [
    "#Visualise the Correlation of columns in a heatmap\n",
    "corr = fifa_t.corr().loc[:,['ovr']]\n",
    "fig, ax = plt.subplots(figsize=(5,25))\n",
    "ax = sns.heatmap(corr.sort_values(by=['ovr'],ascending=False), ax=ax,annot=True,cbar=True,cmap=\"Purples\")\n",
    "ax.set_xticklabels(ax.xaxis.get_ticklabels(), fontsize=10)\n",
    "ax.set_yticklabels(ax.yaxis.get_ticklabels(), fontsize=10)\n",
    "plt.show()\n",
    "\n"
   ]
  },
  {
   "cell_type": "code",
   "execution_count": null,
   "id": "d3feed22",
   "metadata": {},
   "outputs": [],
   "source": [
    "#Separate Numerical from Categorical columns\n",
    "\n",
    "numerical = fifa_t.select_dtypes(include=np.number)\n",
    "categorical = fifa_t.select_dtypes(include=np.object)\n",
    "\n",
    "\n",
    "#Split  \n",
    "y = numerical['ovr']\n",
    "X = numerical.drop(['ovr'], axis=1)\n",
    "\n",
    "\n",
    "#Normalise the numerical data    \n",
    "MinMaxtransformer = MinMaxScaler().fit(X)\n",
    "x_normalized = MinMaxtransformer.transform(X)\n",
    "x_normalized = pd.DataFrame(x_normalized,columns=X.columns)\n",
    "X_num = x_normalized\n",
    "\n",
    "\n",
    "#Drop columns ahead of one-hot-encoding\n",
    "X_cat = categorical.drop(columns=['name','nationality'], axis=1)\n",
    "\n",
    "#One-hot-encode the categorical columns\n",
    "encoder2 = OneHotEncoder(drop='first').fit(X_cat)\n",
    "encoded_for_p2 = encoder2.transform(X_cat).toarray()\n",
    "cols = encoder2.get_feature_names(input_features=X_cat.columns)\n",
    "onehot_encoded_for_p2 = pd.DataFrame(encoded_for_p2, columns=cols)\n",
    "onehot_encoded_for_p2.head()\n",
    "X_cat = onehot_encoded_for_p2\n",
    "\n",
    "#Concatenate the numerical and one-hot-encoded data\n",
    "Xdf = pd.concat([X_cat,X_num], axis=1)"
   ]
  },
  {
   "cell_type": "markdown",
   "id": "eb1cbe1b",
   "metadata": {},
   "source": [
    "## 5. Split & Train"
   ]
  },
  {
   "cell_type": "code",
   "execution_count": null,
   "id": "aa38cf30",
   "metadata": {},
   "outputs": [],
   "source": [
    "X_train, X_test, y_train, y_test = tts(Xdf, y, test_size=0.2, random_state=42)"
   ]
  },
  {
   "cell_type": "code",
   "execution_count": null,
   "id": "5b1bd15a",
   "metadata": {},
   "outputs": [],
   "source": [
    "linreg = LinReg()\n",
    "linreg.fit(X_train,y_train)\n",
    "y_pred_linreg = linreg.predict(X_test)"
   ]
  },
  {
   "cell_type": "code",
   "execution_count": null,
   "id": "6ca225a8",
   "metadata": {},
   "outputs": [],
   "source": [
    "lm = linear_model.LinearRegression()"
   ]
  },
  {
   "cell_type": "code",
   "execution_count": null,
   "id": "bcb19b79",
   "metadata": {},
   "outputs": [],
   "source": [
    "lm.fit(Xdf,y)\n",
    "print(lm.intercept_)\n",
    "print(lm.coef_)"
   ]
  },
  {
   "cell_type": "code",
   "execution_count": null,
   "id": "e278a860",
   "metadata": {},
   "outputs": [],
   "source": [
    "pred = lm.predict(X_test)"
   ]
  },
  {
   "cell_type": "code",
   "execution_count": null,
   "id": "6e57099e",
   "metadata": {},
   "outputs": [],
   "source": [
    "pred"
   ]
  },
  {
   "cell_type": "code",
   "execution_count": null,
   "id": "d3a3d12f",
   "metadata": {},
   "outputs": [],
   "source": [
    "train_r2 = linreg.score(X_train, y_train)\n",
    "test_r2 = linreg.score(X_test, y_test)\n",
    "print (f'Train R2: {train_r2} \\nTest R2: {test_r2}')"
   ]
  },
  {
   "cell_type": "code",
   "execution_count": null,
   "id": "0f796ae8",
   "metadata": {},
   "outputs": [],
   "source": [
    "train_mse=mean_squared_error(linreg.predict(X_train), y_train)\n",
    "test_mse=mean_squared_error(linreg.predict(X_test), y_test)\n",
    "print(f'Train MSE: {train_mse} \\nTest MSE: {test_mse}')"
   ]
  },
  {
   "cell_type": "code",
   "execution_count": null,
   "id": "b45bd2b8",
   "metadata": {},
   "outputs": [],
   "source": [
    "rmse = np.sqrt(test_mse)\n",
    "rmse"
   ]
  },
  {
   "cell_type": "markdown",
   "id": "64fca377",
   "metadata": {},
   "source": [
    "## 6. Test the regression against our model"
   ]
  },
  {
   "cell_type": "code",
   "execution_count": null,
   "id": "3f324af9",
   "metadata": {},
   "outputs": [],
   "source": [
    "#Separate Numerical from Categorical columns\n",
    "numerical_ = fifa_v.select_dtypes(include=np.number)\n",
    "categorical_ = fifa_v.select_dtypes(include=np.object)\n",
    "  \n",
    "    \n",
    "#Split\n",
    "y_ = numerical_['ovr']\n",
    "X_ = numerical_.drop(['ovr'], axis=1)\n",
    "\n",
    "\n",
    "#Normalise the numerical data    \n",
    "x_normalized_ = MinMaxtransformer.transform(X_)\n",
    "x_normalized_ = pd.DataFrame(x_normalized_,columns=X_.columns)\n",
    "X_num_ = x_normalized_\n",
    "\n",
    "\n",
    "#Drop any categorical data ahead of one-hot-encoding\n",
    "X_cat_ = categorical_.drop(columns=['name','nationality'], axis=1)\n",
    "\n",
    "#One-hot-encode the categorical columns\n",
    "encoded_for_p2_ = encoder2.transform(X_cat_).toarray()\n",
    "cols_ = encoder2.get_feature_names(input_features=X_cat_.columns)\n",
    "onehot_encoded_for_p2_ = pd.DataFrame(encoded_for_p2_, columns=cols_)\n",
    "X_cat_ = onehot_encoded_for_p2_\n",
    "\n",
    "\n",
    "#Concatenate the numerical and one-hot-encoded data\n",
    "Xdf_ = pd.concat([X_cat_,X_num_], axis=1)\n"
   ]
  },
  {
   "cell_type": "code",
   "execution_count": null,
   "id": "2c5fa58f",
   "metadata": {},
   "outputs": [],
   "source": [
    "validation_prediction = lm.predict(Xdf_)\n",
    "validation_prediction"
   ]
  },
  {
   "cell_type": "code",
   "execution_count": null,
   "id": "ce0427c6",
   "metadata": {},
   "outputs": [],
   "source": [
    "validations_mse= mean_squared_error(validation_prediction, y_)"
   ]
  },
  {
   "cell_type": "code",
   "execution_count": null,
   "id": "23452399",
   "metadata": {},
   "outputs": [],
   "source": [
    "print(validations_mse)"
   ]
  },
  {
   "cell_type": "code",
   "execution_count": 20,
   "id": "d513173f",
   "metadata": {},
   "outputs": [
    {
     "data": {
      "text/plain": [
       "2.250955694305008"
      ]
     },
     "execution_count": 20,
     "metadata": {},
     "output_type": "execute_result"
    }
   ],
   "source": [
    "rmse_ = np.sqrt(validations_mse)\n",
    "rmse_"
   ]
  }
 ],
 "metadata": {
  "kernelspec": {
   "display_name": "Python 3 (ipykernel)",
   "language": "python",
   "name": "python3"
  },
  "language_info": {
   "codemirror_mode": {
    "name": "ipython",
    "version": 3
   },
   "file_extension": ".py",
   "mimetype": "text/x-python",
   "name": "python",
   "nbconvert_exporter": "python",
   "pygments_lexer": "ipython3",
   "version": "3.9.7"
  }
 },
 "nbformat": 4,
 "nbformat_minor": 5
}
