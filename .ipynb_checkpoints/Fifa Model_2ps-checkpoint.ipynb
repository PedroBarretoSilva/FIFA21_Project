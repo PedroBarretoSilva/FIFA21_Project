{
 "cells": [
  {
   "cell_type": "markdown",
   "id": "fbb518dc",
   "metadata": {},
   "source": [
    "## 1. Import Libraries"
   ]
  },
  {
   "cell_type": "code",
   "execution_count": 86,
   "id": "cde52014",
   "metadata": {},
   "outputs": [],
   "source": [
    "import pandas as pd\n",
    "import numpy as np\n",
    "import matplotlib.pyplot as plt\n",
    "import seaborn as sns \n",
    "from sklearn import linear_model\n",
    "from sklearn.metrics import mean_squared_error, mean_absolute_error, r2_score\n",
    "from sklearn.linear_model import LinearRegression as LinReg\n",
    "from sklearn.preprocessing import MinMaxScaler\n",
    "from sklearn.preprocessing import StandardScaler\n",
    "from sklearn.preprocessing import OneHotEncoder\n",
    "from sklearn.model_selection import train_test_split as tts\n",
    "from sklearn.metrics import r2_score\n",
    "import math"
   ]
  },
  {
   "cell_type": "markdown",
   "id": "6e04f5ff",
   "metadata": {},
   "source": [
    "## 2. Initialise function"
   ]
  },
  {
   "cell_type": "code",
   "execution_count": 87,
   "id": "baa19623",
   "metadata": {},
   "outputs": [],
   "source": [
    "def FIFA(x):\n",
    "   \n",
    "    #Column Cleaning\n",
    "  \n",
    "    #change titles to lower case \n",
    "    lower = []\n",
    "    for i in x.columns:\n",
    "        lower.append(i.lower())\n",
    "    x.columns = lower\n",
    "  \n",
    "    #Rename unclear column names\n",
    "    x = x.rename(columns={'weight':'weight(kg)', 'value':'value(€)','wage':'wage(€)','release clause':'release_clause(€)','bp' : 'best position','a/w' : 'attacking workrate','d/w':'defensive workrate','ir' : 'international reputation','w/f':'weak foot','sm' : 'skill move','ova':'ovr'})\n",
    "    \n",
    "\n",
    "    #Puts underscore instead of spaces\n",
    "    under_ = []\n",
    "    for i in x.columns:\n",
    "        if ' ' in i:\n",
    "            under_.append(i.replace(' ', '_'))\n",
    "        else:\n",
    "            under_.append(i)\n",
    "    x.columns = under_   \n",
    "\n",
    "\n",
    "    \n",
    "    #Value Cleaning\n",
    "\n",
    "    #cleaned up the final columns (taking + out)\n",
    "    def split(y):\n",
    "        y = y.str.split(\"+\", n = 1, expand = True)[0]\n",
    "        return y \n",
    "    \n",
    "    cols = x[['ls','st','rs','lw','lf','cf','rf','rw','lam','cam','ram','lm','lcm','cm','rcm','rm','lwb','ldm','cdm','rdm','rwb','lb','lcb','cb','rcb','rb','gk']]\n",
    "    for i in cols:\n",
    "        x[i] = split(cols[i])\n",
    "        x[i] = x[i].astype(int)\n",
    "        \n",
    "        \n",
    "    #Remove stars from values in columns\n",
    "    x['skill_move']=x['skill_move'].str.replace('★','') \n",
    "    x['weak_foot']=x['weak_foot'].str.replace('★','')\n",
    "    x['international_reputation']=x['international_reputation'].str.replace('★','')\n",
    "    \n",
    "    \n",
    "    #Fill Nulls and create boolean values for loan_date_end column\n",
    "    x['loan_date_end'] = x['loan_date_end'].fillna(0)\n",
    "    \n",
    "    numb = []\n",
    "    for i in x['loan_date_end']:\n",
    "        if i != 0:\n",
    "            numb.append(1)\n",
    "        else:\n",
    "            numb.append(0)\n",
    "\n",
    "    x['loan_date_end'] = numb\n",
    "    \n",
    "    \n",
    "    #Convert money to int by removing characters and punctuation, then correcting the amounts\n",
    "    def moneycon(x):\n",
    "\n",
    "        money = []\n",
    "        for i in x:\n",
    "            i = i.replace(\"€\",'')\n",
    "            if 'K' in i:\n",
    "                i = i.replace(\"K\",'')\n",
    "                i = i.replace(\".\",'')\n",
    "                i = float(i)\n",
    "                i = float(i * 1000)\n",
    "                i = int(i)\n",
    "                money.append(i)\n",
    "            elif 'M' in i:\n",
    "                i = i.replace(\"M\",'')\n",
    "                i = float(i)\n",
    "                i = float(i * 1000000)\n",
    "                i = int(i)\n",
    "                money.append(i)\n",
    "            else:\n",
    "                money.append(i)   \n",
    "            \n",
    "        return money\n",
    "    \n",
    "    x['value(€)'] = moneycon(x['value(€)'])\n",
    "    x['wage(€)'] = moneycon(x['wage(€)'])\n",
    "    x['release_clause(€)'] = moneycon(x['release_clause(€)'])\n",
    "    x['hits'] = moneycon(x['hits'])\n",
    "    \n",
    "    x['value(€)'] = pd.to_numeric(x['value(€)'])\n",
    "    x['wage(€)'] = pd.to_numeric(x['wage(€)'])\n",
    "    x['release_clause(€)'] = pd.to_numeric(x['release_clause(€)'])\n",
    "    x['hits'] = pd.to_numeric(x['hits'])\n",
    "    \n",
    "    x['defensive_workrate'] = x['defensive_workrate'].fillna(\"U\")\n",
    "    x['defensive_workrate'] = x['defensive_workrate'].map({'Low':1,'Medium':2,'High':3, \"U\":0})\n",
    "    x['attacking_workrate'] = x['attacking_workrate'].fillna(\"U\")\n",
    "    x['attacking_workrate'] = x['attacking_workrate'].map({'Low':1,'Medium':2,'High':3, \"U\":0})\n",
    "    x['foot'] = x['foot'].fillna(\"U\")\n",
    "    x['foot'] = x['foot'].map({'Right':0,'Left':1})\n",
    "    \n",
    "    \n",
    "    #x['gk'] = x['gk'].map({'None':0})\n",
    "    \n",
    "    \n",
    "    #Convert columns to integers\n",
    "    x['international_reputation'] = x['international_reputation'].astype(int)\n",
    "    x['skill_move'] = x['skill_move'].astype(int)\n",
    "    x['weak_foot'] = x['weak_foot'].astype(int)\n",
    "\n",
    "    \n",
    "    #Convert weight and height columns to metric measurements\n",
    "    \n",
    "    weight=[]\n",
    "    for i in x['weight(kg)']:\n",
    "        i = i.replace('lbs','')\n",
    "        i = float(i)*0.453592\n",
    "        weight.append(round(i,2))\n",
    "                     \n",
    "    x['weight(kg)'] = weight\n",
    "    \n",
    "    x = x[x['club'].isna()==False]\n",
    "    \n",
    "    \n",
    "    x['heightm'] = x['height'].str.split(\"'\", n = 1, expand = True)[0]\n",
    "    x['heightcm'] = x['height'].str.split(\"'\", n = 0, expand = True)[0]\n",
    "\n",
    "    changetype = x[[]]\n",
    "\n",
    "    heightmcon = []\n",
    "    for i in x['heightm']:\n",
    "        i = float(i) * 30.48\n",
    "        i = int(i)\n",
    "        heightmcon.append(i)\n",
    "    x['heightm'] = heightmcon\n",
    "\n",
    "    heightcmcon= []\n",
    "    for i in x['heightcm']:\n",
    "        i = float(i) * 2.54\n",
    "        i = int(i)\n",
    "        heightcmcon.append(i)\n",
    "    x['heightcm'] = heightcmcon\n",
    "\n",
    "    x['height'] = x['heightm']+x['heightcm']\n",
    "    \n",
    "    hdrop = x[['heightm','heightcm']]\n",
    "    x[i] = x.drop(hdrop, axis = 1, inplace = True)\n",
    "    \n",
    " \n",
    "    \n",
    "    #Determine the columns to be included in the final dataframe (gk has problems with datatype, if i had more time, i would correct this)\n",
    "    x = x[['name','age','nationality','best_position','height','weight(kg)','foot','growth','value(€)','wage(€)','release_clause(€)','loan_date_end','attacking','skill','movement','power','mentality','defending','goalkeeping','total_stats','base_stats','weak_foot','skill_move','attacking_workrate','defensive_workrate','international_reputation','pac','sho','pas','dri','def','phy','hits','ls','st','rs','lw','lf','cf','rf','rw','lam','cam','ram','lm','lcm','cm','rcm','rm','lwb','ldm','cdm','rdm','rwb','lb','lcb','cb','rcb','rb','gk','ovr']]\n",
    "\n",
    "    return x"
   ]
  },
  {
   "cell_type": "markdown",
   "id": "f495d2c9",
   "metadata": {},
   "source": [
    "## 3. Import csv files"
   ]
  },
  {
   "cell_type": "code",
   "execution_count": 88,
   "id": "4b179569",
   "metadata": {},
   "outputs": [],
   "source": [
    "fifa_train = pd.read_csv('fifa21_train.csv')\n",
    "fifa_validate = pd.read_csv('fifa21_validate.csv')"
   ]
  },
  {
   "cell_type": "code",
   "execution_count": 89,
   "id": "811bf0b2",
   "metadata": {},
   "outputs": [],
   "source": [
    "fifa_t = FIFA(fifa_train)\n",
    "fifa_v = FIFA(fifa_validate)\n",
    "\n"
   ]
  },
  {
   "cell_type": "markdown",
   "id": "f956abe4",
   "metadata": {},
   "source": [
    "## 4. Prepare the model"
   ]
  },
  {
   "cell_type": "code",
   "execution_count": 90,
   "id": "603b1421",
   "metadata": {},
   "outputs": [
    {
     "data": {
      "image/png": "[encoded data removed]",
      "text/plain": [
       "<Figure size 360x1800 with 2 Axes>"
      ]
     },
     "metadata": {
      "needs_background": "light"
     },
     "output_type": "display_data"
    }
   ],
   "source": [
    "#Visualise the Correlation of columns in a heatmap\n",
    "corr = fifa_t.corr().loc[:,['ovr']]\n",
    "fig, ax = plt.subplots(figsize=(5,25))\n",
    "ax = sns.heatmap(corr.sort_values(by=['ovr'],ascending=False), ax=ax,annot=True,cbar=True,cmap=\"Purples\")\n",
    "ax.set_xticklabels(ax.xaxis.get_ticklabels(), fontsize=10)\n",
    "ax.set_yticklabels(ax.yaxis.get_ticklabels(), fontsize=10)\n",
    "plt.show()\n",
    "\n"
   ]
  },
  {
   "cell_type": "code",
   "execution_count": 91,
   "id": "d3feed22",
   "metadata": {},
   "outputs": [
    {
     "name": "stderr",
     "output_type": "stream",
     "text": [
      "C:\\Users\\pbsil\\AppData\\Local\\Temp/ipykernel_3588/1175536591.py:4: DeprecationWarning: `np.object` is a deprecated alias for the builtin `object`. To silence this warning, use `object` by itself. Doing this will not modify any behavior and is safe. \n",
      "Deprecated in NumPy 1.20; for more details and guidance: https://numpy.org/devdocs/release/1.20.0-notes.html#deprecations\n",
      "  categorical = fifa_t.select_dtypes(include=np.object)\n"
     ]
    }
   ],
   "source": [
    "#Separate Numerical from Categorical columns\n",
    "\n",
    "numerical = fifa_t.select_dtypes(include=np.number)\n",
    "categorical = fifa_t.select_dtypes(include=np.object)\n",
    "\n",
    "\n",
    "#Split  \n",
    "y = numerical['ovr']\n",
    "X = numerical.drop(['ovr'], axis=1)\n",
    "\n",
    "\n",
    "#Normalise the numerical data    \n",
    "MinMaxtransformer = MinMaxScaler().fit(X)\n",
    "x_normalized = MinMaxtransformer.transform(X)\n",
    "x_normalized = pd.DataFrame(x_normalized,columns=X.columns)\n",
    "X_num = x_normalized\n",
    "\n",
    "\n",
    "#Drop columns ahead of one-hot-encoding\n",
    "X_cat = categorical.drop(columns=['name','nationality'], axis=1)\n",
    "\n",
    "#One-hot-encode the categorical columns\n",
    "encoder2 = OneHotEncoder(drop='first').fit(X_cat)\n",
    "encoded_for_p2 = encoder2.transform(X_cat).toarray()\n",
    "cols = encoder2.get_feature_names(input_features=X_cat.columns)\n",
    "onehot_encoded_for_p2 = pd.DataFrame(encoded_for_p2, columns=cols)\n",
    "onehot_encoded_for_p2.head()\n",
    "X_cat = onehot_encoded_for_p2\n",
    "\n",
    "#Concatenate the numerical and one-hot-encoded data\n",
    "Xdf = pd.concat([X_cat,X_num], axis=1)"
   ]
  },
  {
   "cell_type": "markdown",
   "id": "eb1cbe1b",
   "metadata": {},
   "source": [
    "## 5. Split & Train"
   ]
  },
  {
   "cell_type": "code",
   "execution_count": 92,
   "id": "aa38cf30",
   "metadata": {},
   "outputs": [],
   "source": [
    "X_train, X_test, y_train, y_test = tts(Xdf, y, test_size=0.2, random_state=42)"
   ]
  },
  {
   "cell_type": "code",
   "execution_count": 93,
   "id": "5b1bd15a",
   "metadata": {},
   "outputs": [],
   "source": [
    "linreg = LinReg()\n",
    "linreg.fit(X_train,y_train)\n",
    "y_pred_linreg = linreg.predict(X_test)"
   ]
  },
  {
   "cell_type": "code",
   "execution_count": 94,
   "id": "6ca225a8",
   "metadata": {},
   "outputs": [],
   "source": [
    "lm = linear_model.LinearRegression()"
   ]
  },
  {
   "cell_type": "code",
   "execution_count": 95,
   "id": "bcb19b79",
   "metadata": {},
   "outputs": [
    {
     "name": "stdout",
     "output_type": "stream",
     "text": [
      "-2993972607855.865\n",
      "[ 4.31015184e+00  6.73376151e-01 -3.13993579e-01 -6.40975093e-01\n",
      " -3.49337442e+00  1.94056101e+00  5.00571585e-01  9.70073764e-01\n",
      "  1.54739580e+00  2.17257794e+00  3.53205055e-01  5.53749901e-01\n",
      "  1.50210809e+00  4.75952682e-01  1.51137571e+00  1.30772372e-01\n",
      "  1.08836317e+00  8.76449610e-02 -2.80359977e+00  2.28158162e+01\n",
      "  1.76519870e+00 -5.32066460e+00  2.75185303e-01  1.89113252e+12\n",
      "  1.99879601e+12  1.64303840e+12  1.45579756e+12  1.68048657e+12\n",
      "  1.17025527e+12  1.99879601e+12 -7.36324617e+12 -4.14872987e+12\n",
      "  5.30701788e-02  2.99324610e+00 -2.95167001e-01 -3.86630686e-01\n",
      "  1.69938340e+00  1.10843928e+12  1.20344836e+12  1.07676958e+12\n",
      "  1.06093474e+12  1.21928320e+12  1.04509989e+12  4.89286434e+00\n",
      "  1.37695292e+12  1.37992891e+12 -2.75688183e+12 -5.86148115e+12\n",
      "  4.85497769e+10 -2.42643753e+10 -2.42854016e+10  5.86148115e+12\n",
      "  3.98085586e+10 -1.99042793e+10 -1.99042793e+10  3.07826839e+10\n",
      "  2.32848876e+10 -1.16424438e+10 -1.16424438e+10 -3.07826840e+10\n",
      "  4.52027176e+12 -2.38632136e+06  1.19316247e+06  1.19316247e+06\n",
      " -4.52027176e+12  5.77245597e+11  4.40370709e+11  3.21858594e+11\n",
      " -7.62229304e+11 -5.77245597e+11  5.48786595e+01]\n"
     ]
    }
   ],
   "source": [
    "lm.fit(Xdf,y)\n",
    "print(lm.intercept_)\n",
    "print(lm.coef_)"
   ]
  },
  {
   "cell_type": "code",
   "execution_count": 96,
   "id": "e278a860",
   "metadata": {},
   "outputs": [],
   "source": [
    "pred = lm.predict(X_test)"
   ]
  },
  {
   "cell_type": "code",
   "execution_count": 97,
   "id": "6e57099e",
   "metadata": {},
   "outputs": [
    {
     "data": {
      "text/plain": [
       "array([61.90185547, 58.68554688, 76.71142578, ..., 62.88378906,\n",
       "       71.07373047, 76.86181641])"
      ]
     },
     "execution_count": 97,
     "metadata": {},
     "output_type": "execute_result"
    }
   ],
   "source": [
    "pred"
   ]
  },
  {
   "cell_type": "code",
   "execution_count": 98,
   "id": "d3a3d12f",
   "metadata": {},
   "outputs": [
    {
     "name": "stdout",
     "output_type": "stream",
     "text": [
      "Train R2: 0.8961349609688654 \n",
      "Test R2: 0.8927842101241141\n"
     ]
    }
   ],
   "source": [
    "train_r2 = linreg.score(X_train, y_train)\n",
    "test_r2 = linreg.score(X_test, y_test)\n",
    "print (f'Train R2: {train_r2} \\nTest R2: {test_r2}')"
   ]
  },
  {
   "cell_type": "code",
   "execution_count": 99,
   "id": "0f796ae8",
   "metadata": {},
   "outputs": [
    {
     "name": "stdout",
     "output_type": "stream",
     "text": [
      "Train MSE: 4.917272852188051 \n",
      "Test MSE: 4.971483405961611\n"
     ]
    }
   ],
   "source": [
    "train_mse=mean_squared_error(linreg.predict(X_train), y_train)\n",
    "test_mse=mean_squared_error(linreg.predict(X_test), y_test)\n",
    "print(f'Train MSE: {train_mse} \\nTest MSE: {test_mse}')"
   ]
  },
  {
   "cell_type": "code",
   "execution_count": 100,
   "id": "b45bd2b8",
   "metadata": {},
   "outputs": [
    {
     "data": {
      "text/plain": [
       "2.2296823553954073"
      ]
     },
     "execution_count": 100,
     "metadata": {},
     "output_type": "execute_result"
    }
   ],
   "source": [
    "rmse = np.sqrt(test_mse)\n",
    "rmse"
   ]
  },
  {
   "cell_type": "markdown",
   "id": "64fca377",
   "metadata": {},
   "source": [
    "## 6. Test the regression against our model"
   ]
  },
  {
   "cell_type": "code",
   "execution_count": 101,
   "id": "3f324af9",
   "metadata": {},
   "outputs": [
    {
     "name": "stderr",
     "output_type": "stream",
     "text": [
      "C:\\Users\\pbsil\\AppData\\Local\\Temp/ipykernel_3588/2810660953.py:3: DeprecationWarning: `np.object` is a deprecated alias for the builtin `object`. To silence this warning, use `object` by itself. Doing this will not modify any behavior and is safe. \n",
      "Deprecated in NumPy 1.20; for more details and guidance: https://numpy.org/devdocs/release/1.20.0-notes.html#deprecations\n",
      "  categorical_ = fifa_v.select_dtypes(include=np.object)\n"
     ]
    }
   ],
   "source": [
    "#Separate Numerical from Categorical columns\n",
    "numerical_ = fifa_v.select_dtypes(include=np.number)\n",
    "categorical_ = fifa_v.select_dtypes(include=np.object)\n",
    "  \n",
    "    \n",
    "#Split\n",
    "y_ = numerical_['ovr']\n",
    "X_ = numerical_.drop(['ovr'], axis=1)\n",
    "\n",
    "\n",
    "#Normalise the numerical data    \n",
    "x_normalized_ = MinMaxtransformer.transform(X_)\n",
    "x_normalized_ = pd.DataFrame(x_normalized_,columns=X_.columns)\n",
    "X_num_ = x_normalized_\n",
    "\n",
    "\n",
    "#Drop any categorical data ahead of one-hot-encoding\n",
    "X_cat_ = categorical_.drop(columns=['name','nationality'], axis=1)\n",
    "\n",
    "#One-hot-encode the categorical columns\n",
    "encoded_for_p2_ = encoder2.transform(X_cat_).toarray()\n",
    "cols_ = encoder2.get_feature_names(input_features=X_cat_.columns)\n",
    "onehot_encoded_for_p2_ = pd.DataFrame(encoded_for_p2_, columns=cols_)\n",
    "X_cat_ = onehot_encoded_for_p2_\n",
    "\n",
    "\n",
    "#Concatenate the numerical and one-hot-encoded data\n",
    "Xdf_ = pd.concat([X_cat_,X_num_], axis=1)\n"
   ]
  },
  {
   "cell_type": "code",
   "execution_count": 102,
   "id": "2c5fa58f",
   "metadata": {},
   "outputs": [
    {
     "data": {
      "text/plain": [
       "array([65.12939453, 66.39599609, 54.65234375, ..., 73.98632812,\n",
       "       64.04785156, 60.33349609])"
      ]
     },
     "execution_count": 102,
     "metadata": {},
     "output_type": "execute_result"
    }
   ],
   "source": [
    "validation_prediction = lm.predict(Xdf_)\n",
    "validation_prediction"
   ]
  },
  {
   "cell_type": "code",
   "execution_count": 103,
   "id": "ce0427c6",
   "metadata": {},
   "outputs": [],
   "source": [
    "validations_mse= mean_squared_error(validation_prediction, y_)"
   ]
  },
  {
   "cell_type": "code",
   "execution_count": 104,
   "id": "23452399",
   "metadata": {},
   "outputs": [
    {
     "name": "stdout",
     "output_type": "stream",
     "text": [
      "5.061576237420519\n"
     ]
    }
   ],
   "source": [
    "print(validations_mse)"
   ]
  },
  {
   "cell_type": "code",
   "execution_count": 20,
   "id": "d513173f",
   "metadata": {},
   "outputs": [
    {
     "data": {
      "text/plain": [
       "2.250955694305008"
      ]
     },
     "execution_count": 20,
     "metadata": {},
     "output_type": "execute_result"
    }
   ],
   "source": [
    "rmse_ = np.sqrt(validations_mse)\n",
    "rmse_"
   ]
  }
 ],
 "metadata": {
  "kernelspec": {
   "display_name": "Python 3 (ipykernel)",
   "language": "python",
   "name": "python3"
  },
  "language_info": {
   "codemirror_mode": {
    "name": "ipython",
    "version": 3
   },
   "file_extension": ".py",
   "mimetype": "text/x-python",
   "name": "python",
   "nbconvert_exporter": "python",
   "pygments_lexer": "ipython3",
   "version": "3.9.7"
  }
 },
 "nbformat": 4,
 "nbformat_minor": 5
}
